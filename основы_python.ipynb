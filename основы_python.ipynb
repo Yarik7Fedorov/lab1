{
  "cells": [
    {
      "cell_type": "markdown",
      "metadata": {
        "id": "M-DGa20PaHnu"
      },
      "source": [
        "#Задача 1\n",
        "Написать функцию на вход которой подается строка, состоящая из латинских букв.\n",
        "Функция должна вернуть количество гласных букв (a, e, i, o, u) в этой строке. Написать тесты для кода"
      ]
    },
    {
      "cell_type": "code",
      "execution_count": 2,
      "metadata": {
        "id": "XvX8X_JJ6PCb"
      },
      "outputs": [
        {
          "name": "stdout",
          "output_type": "stream",
          "text": [
            "All tests passed!\n"
          ]
        }
      ],
      "source": [
        "# Your code goes here\n",
        "def count_vowels(s: str) -> int:\n",
        "    vowels = \"aeiouAEIOU\"\n",
        "    return sum(1 for char in s if char in vowels)\n",
        "\n",
        "def test_count_vowels():\n",
        "    # Тест 1: Обычная строка с гласными и согласными\n",
        "    assert count_vowels(\"hello\") == 2, \"Test 1 Failed\"\n",
        "    \n",
        "    # Тест 2: Строка без гласных\n",
        "    assert count_vowels(\"bcdfgh\") == 0, \"Test 2 Failed\"\n",
        "    \n",
        "    # Тест 3: Строка только из гласных\n",
        "    assert count_vowels(\"aeiou\") == 5, \"Test 3 Failed\"\n",
        "    \n",
        "    # Тест 4: Пустая строка\n",
        "    assert count_vowels(\"\") == 0, \"Test 4 Failed\"\n",
        "    \n",
        "    # Тест 5: Строка с заглавными и строчными гласными\n",
        "    assert count_vowels(\"AEIOUaeiou\") == 10, \"Test 5 Failed\"\n",
        "    \n",
        "    # Тест 6: Строка с неалфавитными символами\n",
        "    assert count_vowels(\"123@!\") == 0, \"Test 6 Failed\"\n",
        "\n",
        "    print(\"All tests passed!\")\n",
        "\n",
        "# Запуск тестов\n",
        "test_count_vowels()\n"
      ]
    },
    {
      "cell_type": "markdown",
      "metadata": {
        "id": "t2ClV_Y0bbr6"
      },
      "source": [
        "# Задача 2\n",
        "Написать функцию на вход, которой подается строка. Функция должна вернуть true, если\n",
        "каждый символ в строке встречается только 1 раз, иначе должна вернуть false. Написать тесты для кода"
      ]
    },
    {
      "cell_type": "code",
      "execution_count": 3,
      "metadata": {
        "id": "FppbECao6VIz"
      },
      "outputs": [
        {
          "name": "stdout",
          "output_type": "stream",
          "text": [
            "All tests passed!\n"
          ]
        }
      ],
      "source": [
        "# Your code goes here\n",
        "def is_unique(s: str) -> bool:\n",
        "    return len(s) == len(set(s))\n",
        "\n",
        "\n",
        "\n",
        "def test_is_unique():\n",
        "    # Тест 1: Строка с уникальными символами\n",
        "    assert is_unique(\"abcde\") == True, \"Test 1 Failed\"\n",
        "    \n",
        "    # Тест 2: Строка с повторяющимися символами\n",
        "    assert is_unique(\"hello\") == False, \"Test 2 Failed\"\n",
        "    \n",
        "    # Тест 3: Пустая строка\n",
        "    assert is_unique(\"\") == True, \"Test 3 Failed\"\n",
        "    \n",
        "    # Тест 4: Строка с уникальными цифрами\n",
        "    assert is_unique(\"12345\") == True, \"Test 4 Failed\"\n",
        "    \n",
        "    # Тест 5: Строка с повторяющимися цифрами\n",
        "    assert is_unique(\"12311\") == False, \"Test 5 Failed\"\n",
        "    \n",
        "    # Тест 6: Строка с заглавными и строчными буквами\n",
        "    assert is_unique(\"aA\") == True, \"Test 6 Failed\"\n",
        "    \n",
        "    # Тест 7: Строка с уникальными специальными символами\n",
        "    assert is_unique(\"!@#%^&*()\") == True, \"Test 7 Failed\"\n",
        "\n",
        "    print(\"All tests passed!\")\n",
        "\n",
        "# Запуск тестов\n",
        "test_is_unique()\n"
      ]
    },
    {
      "cell_type": "markdown",
      "metadata": {
        "id": "udRiIK1cdt6E"
      },
      "source": [
        "# Задача 3\n",
        "Написать функцию, которая принимает положительное число и возвращает количество\n",
        "бит равных 1 в этом числе. Написать тесты для кода"
      ]
    },
    {
      "cell_type": "code",
      "execution_count": 4,
      "metadata": {
        "id": "6tkfDJRz6dp_"
      },
      "outputs": [
        {
          "name": "stdout",
          "output_type": "stream",
          "text": [
            "All tests passed!\n"
          ]
        }
      ],
      "source": [
        "# Your code goes here\n",
        "def count_bits(n: int) -> int:\n",
        "    return bin(n).count('1')\n",
        "\n",
        "def test_count_bits():\n",
        "    # Тест 1: Число 0\n",
        "    assert count_bits(0) == 0, \"Test 1 Failed\"\n",
        "\n",
        "    # Тест 2: Число 1 (в бинарном виде: 1)\n",
        "    assert count_bits(1) == 1, \"Test 2 Failed\"\n",
        "    \n",
        "    # Тест 3: Число 2 (в бинарном виде: 10)\n",
        "    assert count_bits(2) == 1, \"Test 3 Failed\"\n",
        "    \n",
        "    # Тест 4: Число 3 (в бинарном виде: 11)\n",
        "    assert count_bits(3) == 2, \"Test 4 Failed\"\n",
        "    \n",
        "    # Тест 5: Число 7 (в бинарном виде: 111)\n",
        "    assert count_bits(7) == 3, \"Test 5 Failed\"\n",
        "    \n",
        "    # Тест 6: Число 8 (в бинарном виде: 1000)\n",
        "    assert count_bits(8) == 1, \"Test 6 Failed\"\n",
        "    \n",
        "    # Тест 7: Число 15 (в бинарном виде: 1111)\n",
        "    assert count_bits(15) == 4, \"Test 7 Failed\"\n",
        "\n",
        "    print(\"All tests passed!\")\n",
        "\n",
        "# Запуск тестов\n",
        "test_count_bits()\n"
      ]
    },
    {
      "cell_type": "markdown",
      "metadata": {
        "id": "26dDUz-Ae17N"
      },
      "source": [
        "# Задача 4\n",
        "Написать функцию, которая принимает положительное число. Функция должна вернуть то,\n",
        "сколько раз необходимо перемножать цифры числа или результат перемножения, чтобы\n",
        "получилось число состоящее из одной цифры.\n",
        "Например, для входного числа:\n",
        "· 39 функция должна вернуть 3, так как 3*9=27 => 2*7=14 => 1*4=4\n",
        "· 4 функция должна вернуть 0, так как число уже состоит из одной цифры\n",
        "· 999 функция должна вернуть 4, так как 9*9*9=729 => 7*2*9=126 => 1*2*6=12 =>\n",
        "1*2=2. Написать тесты для кода"
      ]
    },
    {
      "cell_type": "code",
      "execution_count": 6,
      "metadata": {
        "id": "BH1A_Mgi6i4G"
      },
      "outputs": [
        {
          "name": "stdout",
          "output_type": "stream",
          "text": [
            "All tests passed!\n"
          ]
        }
      ],
      "source": [
        "def magic(n):\n",
        "    # Your code goes here\n",
        "    if n < 10:\n",
        "        return 0\n",
        "    \n",
        "    count = 0\n",
        "    while n >= 10:\n",
        "        n = multiply_digits(n)\n",
        "        count += 1\n",
        "    return count\n",
        "\n",
        "def multiply_digits(n: int) -> int:\n",
        "    result = 1\n",
        "    while n > 0:\n",
        "        result *= n % 10\n",
        "        n //= 10\n",
        "    return result\n",
        "\n",
        "\n",
        "\n",
        "def test_magic():\n",
        "    # Тест 1: Однозначное число\n",
        "    assert magic(4) == 0, \"Test 1 Failed\"\n",
        "    \n",
        "    # Тест 2: Число 39, результат должен быть 3\n",
        "    assert magic(39) == 3, \"Test 2 Failed\"\n",
        "    \n",
        "    # Тест 3: Число 999, результат должен быть 4\n",
        "    assert magic(999) == 4, \"Test 3 Failed\"\n",
        "    \n",
        "    # Тест 4: Число 25, результат должен быть 2\n",
        "    assert magic(25) == 2, \"Test 4 Failed\"\n",
        "    \n",
        "    # Тест 5: Число 10, результат должен быть 1\n",
        "    assert magic(10) == 1, \"Test 5 Failed\"\n",
        "    \n",
        "    # Тест 6: Число 1, результат должен быть 0 (число уже одноцифровое)\n",
        "    assert magic(1) == 0, \"Test 6 Failed\"\n",
        "    \n",
        "    # Тест 7: Число 777, результат должен быть 4\n",
        "    assert magic(777) == 4, \"Test 7 Failed\"\n",
        "\n",
        "    print(\"All tests passed!\")\n",
        "\n",
        "# Запуск тестов\n",
        "test_magic()"
      ]
    },
    {
      "cell_type": "markdown",
      "metadata": {
        "id": "0nS-kIa8g8vd"
      },
      "source": [
        "# Задача 5\n",
        "Написать функцию, которая принимает два целочисленных вектора одинаковой длины и\n",
        "возвращает среднеквадратическое отклонение двух векторов. Написать тесты для кода"
      ]
    },
    {
      "cell_type": "code",
      "execution_count": 7,
      "metadata": {
        "id": "8iphx4LM6xbx"
      },
      "outputs": [
        {
          "name": "stdout",
          "output_type": "stream",
          "text": [
            "All tests passed!\n"
          ]
        }
      ],
      "source": [
        "import math\n",
        "\n",
        "def rmse(vector1: list[int], vector2: list[int]) -> float:\n",
        "    if len(vector1) != len(vector2):\n",
        "        raise ValueError(\"Vectors must be of the same length\")\n",
        "    \n",
        "    n = len(vector1)\n",
        "    squared_diff_sum = sum((a - b) ** 2 for a, b in zip(vector1, vector2))\n",
        "    return math.sqrt(squared_diff_sum / n)\n",
        "\n",
        "\n",
        "def test_rmse():\n",
        "    # Тест 1: Одинаковые векторы (RMSE должен быть 0)\n",
        "    assert math.isclose(rmse([1, 2, 3], [1, 2, 3]), 0), \"Test 1 Failed\"\n",
        "    \n",
        "    # Тест 2: Векторы с одинаковыми значениями, но разным порядком\n",
        "    assert math.isclose(rmse([1, 2, 3], [3, 2, 1]), 1.632993161855452), \"Test 2 Failed\"\n",
        "    \n",
        "    # Тест 3: Один вектор с нулями, другой с положительными числами\n",
        "    assert math.isclose(rmse([0, 0, 0], [1, 2, 3]), 2.160246899469287), \"Test 3 Failed\"\n",
        "    \n",
        "    # Тест 4: Различные числа в обоих векторах\n",
        "    assert math.isclose(rmse([5, 6, 7], [1, 2, 3]), 4), \"Test 4 Failed\"\n",
        "    \n",
        "    # Тест 5: Векторы длиной 1\n",
        "    assert math.isclose(rmse([10], [10]), 0), \"Test 5 Failed\"\n",
        "    \n",
        "    # Тест 6: Векторы с одинаковыми значениями, но смещенными на 2\n",
        "    assert math.isclose(rmse([2, 4, 6], [4, 6, 8]), 2), \"Test 6 Failed\"\n",
        "    \n",
        "    print(\"All tests passed!\")\n",
        "\n",
        "# Запуск тестов\n",
        "test_rmse()"
      ]
    },
    {
      "cell_type": "markdown",
      "metadata": {
        "id": "vpIPKL439zkw"
      },
      "source": [
        "# Задача 6\n",
        "Написать функцию, принимающая целое положительное число. Функция должна вернуть\n",
        "строку вида “(n1**p1)(n2**p2)…(nk**pk)” представляющая разложение числа на простые\n",
        "множители (если pi == 1, то выводить только ni).\n",
        "Например, для числа 86240 функция должна вернуть “(2**5)(5)(7**2)(11)”. Написать тесты для кода"
      ]
    },
    {
      "cell_type": "code",
      "execution_count": 8,
      "metadata": {
        "id": "pFebmcZk94Jw"
      },
      "outputs": [
        {
          "name": "stdout",
          "output_type": "stream",
          "text": [
            "All tests passed!\n"
          ]
        }
      ],
      "source": [
        "# Your code goes here\n",
        "def prime_factors_decomposition(n: int) -> str:\n",
        "    def prime_factors(n):\n",
        "        i = 2\n",
        "        factors = {}\n",
        "        while i * i <= n:\n",
        "            while (n % i) == 0:\n",
        "                if i in factors:\n",
        "                    factors[i] += 1\n",
        "                else:\n",
        "                    factors[i] = 1\n",
        "                n //= i\n",
        "            i += 1\n",
        "        if n > 1:\n",
        "            factors[n] = 1\n",
        "        return factors\n",
        "\n",
        "    factors = prime_factors(n)\n",
        "    result = []\n",
        "    for prime, exponent in sorted(factors.items()):\n",
        "        if exponent == 1:\n",
        "            result.append(f\"({prime})\")\n",
        "        else:\n",
        "            result.append(f\"({prime}**{exponent})\")\n",
        "    \n",
        "    return ''.join(result)\n",
        "\n",
        "\n",
        "\n",
        "def test_prime_factors_decomposition():\n",
        "    # Тест 1: Разложение числа 86240\n",
        "    assert prime_factors_decomposition(86240) == \"(2**5)(5)(7**2)(11)\", \"Test 1 Failed\"\n",
        "    \n",
        "    # Тест 2: Простое число (должно вернуть само число в скобках)\n",
        "    assert prime_factors_decomposition(13) == \"(13)\", \"Test 2 Failed\"\n",
        "    \n",
        "    # Тест 3: Число 60 (разложение: 2**2 * 3 * 5)\n",
        "    assert prime_factors_decomposition(60) == \"(2**2)(3)(5)\", \"Test 3 Failed\"\n",
        "    \n",
        "    # Тест 4: Число 100 (разложение: 2**2 * 5**2)\n",
        "    assert prime_factors_decomposition(100) == \"(2**2)(5**2)\", \"Test 4 Failed\"\n",
        "    \n",
        "    # Тест 5: Число 1 (не имеет простых множителей, должно вернуть пустую строку)\n",
        "    assert prime_factors_decomposition(1) == \"\", \"Test 5 Failed\"\n",
        "    \n",
        "    # Тест 6: Разложение числа 999 (разложение: 3**3 * 37)\n",
        "    assert prime_factors_decomposition(999) == \"(3**3)(37)\", \"Test 6 Failed\"\n",
        "    \n",
        "    print(\"All tests passed!\")\n",
        "\n",
        "# Запуск тестов\n",
        "test_prime_factors_decomposition()"
      ]
    },
    {
      "cell_type": "markdown",
      "metadata": {
        "id": "ps2s0BudX7A2"
      },
      "source": [
        "# Задача 7\n",
        "Написать функцию, принимающая целое число n, задающее количество кубиков. Функция\n",
        "должна определить, можно ли из данного кол-ва кубиков построить пирамиду, то есть\n",
        "можно ли представить число n как 1^2+2^2+3^2+…+k^2. Если можно, то функция должна\n",
        "вернуть k, иначе строку “It is impossible”. Написать тесты для кода"
      ]
    },
    {
      "cell_type": "code",
      "execution_count": 9,
      "metadata": {
        "id": "3YPjEXxhX_YT"
      },
      "outputs": [
        {
          "name": "stdout",
          "output_type": "stream",
          "text": [
            "All tests passed!\n"
          ]
        }
      ],
      "source": [
        "def pyramid_height(n: int) -> str:\n",
        "    k = 0\n",
        "    total = 0\n",
        "    \n",
        "    # Считаем сумму квадратов до тех пор, пока она не превысит n\n",
        "    while total < n:\n",
        "        k += 1\n",
        "        total += k**2\n",
        "    \n",
        "    if total == n:\n",
        "        return k\n",
        "    else:\n",
        "        return \"It is impossible\"\n",
        "\n",
        "\n",
        "def test_pyramid_height():\n",
        "    # Тест 1: n = 14, ответ должен быть 3 (1^2 + 2^2 + 3^2)\n",
        "    assert pyramid_height(14) == 3, \"Test 1 Failed\"\n",
        "    \n",
        "    # Тест 2: n = 30, ответ должен быть \"It is impossible\" (невозможно)\n",
        "    assert pyramid_height(30) == 4, \"Test 2 Failed\"\n",
        "    \n",
        "    # Тест 3: n = 1, ответ должен быть 1 (1^2 = 1)\n",
        "    assert pyramid_height(1) == 1, \"Test 3 Failed\"\n",
        "    \n",
        "    # Тест 4: n = 5, ответ должен быть \"It is impossible\" (невозможно)\n",
        "    assert pyramid_height(13) == \"It is impossible\", \"Test 4 Failed\"\n",
        "    \n",
        "    # Тест 5: n = 0, ответ должен быть 0 (нет кубиков)\n",
        "    assert pyramid_height(0) == 0, \"Test 5 Failed\"\n",
        "    \n",
        "    # Тест 6: n = 55, ответ должен быть 5 (1^2 + 2^2 + 3^2 + 4^2 + 5^2)\n",
        "    assert pyramid_height(55) == 5, \"Test 6 Failed\"\n",
        "    \n",
        "    print(\"All tests passed!\")\n",
        "\n",
        "# Запуск тестов\n",
        "test_pyramid_height()"
      ]
    },
    {
      "cell_type": "markdown",
      "metadata": {
        "id": "KeKgmIdAQMEJ"
      },
      "source": [
        "# Задача 8\n",
        "Функция принимает на вход положительное число и определяет является ли оно сбалансированным, т.е. сумма цифр до средних равна сумме цифр после. Средними в случае нечетного числа цифр считать одну цифру, в случае четного - две средних. Написать тесты для кода"
      ]
    },
    {
      "cell_type": "code",
      "execution_count": 10,
      "metadata": {
        "id": "gMAAqtqlQrZt"
      },
      "outputs": [
        {
          "name": "stdout",
          "output_type": "stream",
          "text": [
            "Все тесты пройдены успешно!\n"
          ]
        }
      ],
      "source": [
        "# Your code goes here\n",
        "def is_balanced_number(n: int) -> bool:\n",
        "    s = str(n)\n",
        "    length = len(s)\n",
        "\n",
        "    if length == 1:\n",
        "        return True\n",
        "\n",
        "    mid = length // 2\n",
        "    if length % 2 == 0:\n",
        "        # Четное количество цифр: две средние\n",
        "        left_sum = sum(map(int, s[:mid]))\n",
        "        right_sum = sum(map(int, s[mid:]))\n",
        "    else:\n",
        "        # Нечетное количество цифр: одна средняя\n",
        "        left_sum = sum(map(int, s[:mid]))\n",
        "        right_sum = sum(map(int, s[mid + 1:]))\n",
        "\n",
        "    return left_sum == right_sum\n",
        "\n",
        "\n",
        "def run_tests():\n",
        "    # Тест 1: Одноцифровое число (должно быть сбалансированным)\n",
        "    assert is_balanced_number(5) == True, \"Тест 1 не пройден: одноцифровое число должно быть сбалансированным\"\n",
        "\n",
        "    # Тест 2: Четное количество цифр, сбалансированное число\n",
        "    assert is_balanced_number(1230) == True, \"Тест 2 не пройден: число 1230 должно быть сбалансированным\"\n",
        "\n",
        "    # Тест 3: Четное количество цифр, несбалансированное число\n",
        "    assert is_balanced_number(1234) == False, \"Тест 3 не пройден: число 1234 не должно быть сбалансированным\"\n",
        "\n",
        "    # Тест 4: Нечетное количество цифр, сбалансированное число\n",
        "    assert is_balanced_number(12121) == True, \"Тест 4 не пройден: число 12121 должно быть сбалансированным\"\n",
        "\n",
        "    # Тест 5: Большое сбалансированное число\n",
        "    assert is_balanced_number(9876543210123456789) == True, \"Тест 6 не пройден: большое число должно быть сбалансированным\"\n",
        "\n",
        "    # Тест 6: Большое несбалансированное число\n",
        "    assert is_balanced_number(9876543210123456790) == False, \"Тест 7 не пройден: большое число не должно быть сбалансированным\"\n",
        "\n",
        "    print(\"Все тесты пройдены успешно!\")\n",
        "\n",
        "# Запуск тестов\n",
        "run_tests()"
      ]
    }
  ],
  "metadata": {
    "colab": {
      "provenance": []
    },
    "kernelspec": {
      "display_name": "Python 3",
      "name": "python3"
    },
    "language_info": {
      "codemirror_mode": {
        "name": "ipython",
        "version": 3
      },
      "file_extension": ".py",
      "mimetype": "text/x-python",
      "name": "python",
      "nbconvert_exporter": "python",
      "pygments_lexer": "ipython3",
      "version": "3.12.3"
    }
  },
  "nbformat": 4,
  "nbformat_minor": 0
}
