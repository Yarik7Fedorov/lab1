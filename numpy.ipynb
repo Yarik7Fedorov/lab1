{
  "cells": [
    {
      "cell_type": "markdown",
      "metadata": {
        "id": "vC84e9kzyxPy"
      },
      "source": [
        "<h1>Импорт библиотек"
      ]
    },
    {
      "cell_type": "code",
      "execution_count": 3,
      "metadata": {
        "id": "cgKeNegmQG5S"
      },
      "outputs": [],
      "source": [
        "import numpy as np\n",
        "import matplotlib.pyplot as plt"
      ]
    },
    {
      "cell_type": "markdown",
      "metadata": {
        "id": "qFM9uVU2x4Ls"
      },
      "source": [
        "<h1>Задача 1. Дан набор из $p$ матриц размерностью $(n, n)$ и $p$ векторов размерностью $(n, 1)$, найти сумму произведений матриц на векторы. Написать тесты для кода"
      ]
    },
    {
      "cell_type": "code",
      "execution_count": null,
      "metadata": {
        "id": "IAbUvEiYyWFF"
      },
      "outputs": [],
      "source": [
        "def sum_prod(X, V):\n",
        "     # Инициализируем результирующий вектор размерности (n, 1)\n",
        "     result = np.zeros((X[0].shape[0], 1))\n",
        "    \n",
        "     # Перебираем каждую матрицу и соответствующий вектор\n",
        "     for matrix, vector in zip(X, V):\n",
        "         # Вычисляем произведение матрицы и вектора, и накапливаем результат\n",
        "         result += np.dot(matrix, vector)\n",
        "    \n",
        "     return result\n",
        "\n",
        "\n",
        "def test_sum_prod():\n",
        "     # Тестовый случай 1\n",
        "     X1 = [np.array([[1, 2], [3, 4]]), np.array([[5, 6], [7, 8]])]\n",
        "     V1 = [np.array([[1], [1]]), np.array([[1], [1]])]\n",
        "     result1 = sum_prod(X1, V1)\n",
        "     expected1 = np.array([[14], [22]])\n",
        "     assert np.allclose(result1, expected1), f\"Тестовый случай 1 не пройден: {result1}\"\n",
        "\n",
        "     # Тестовый случай 2\n",
        "     X2 = [np.array([[1, 0], [0, 1]]), np.array([[2, 0], [0, 2]])]\n",
        "     V2 = [np.array([[3], [4]]), np.array([[5], [6]])]\n",
        "     result2 = sum_prod(X2, V2)\n",
        "     expected2 = np.array([[13], [16]])\n",
        "     assert np.allclose(result2, expected2), f\"Тестовый случай 2 не пройден: {result2}\"\n",
        "\n",
        "     # Тестовый случай 3 (с большей матрицей)\n",
        "     X3 = [np.array([[1, 2, 3], [4, 5, 6], [7, 8, 9]])]\n",
        "     V3 = [np.array([[1], [1], [1]])]\n",
        "     result3 = sum_prod(X3, V3)\n",
        "     expected3 = np.array([[6], [15], [24]])\n",
        "     assert np.allclose(result3, expected3), f\"Тестовый случай 3 не пройден: {result3}\"\n",
        "\n",
        "     print(\"Все тестовые случаи пройдены!\")\n",
        "\n",
        " # Запуск тестов\n",
        "test_sum_prod()"
      ]
    },
    {
      "cell_type": "markdown",
      "metadata": {
        "id": "TKwPG4fIy2w4"
      },
      "source": [
        "<h1>Задача 2. Дана матрица M, напишите функцию, которая бинаризует матрицу по некоторому threshold (то есть, все значения большие threshold становятся равными 1, иначе 0). Напишите тесты для кода"
      ]
    },
    {
      "cell_type": "code",
      "execution_count": null,
      "metadata": {
        "id": "KQDNMgsjRNH7"
      },
      "outputs": [],
      "source": [
        "def binarize(M, threshold=0.5):\n",
        "     # Создаем бинарную матрицу, сравнивая элементы с порогом\n",
        "     return (M > threshold).astype(int)\n",
        "\n",
        "\n",
        "def test_binarize():\n",
        "     # Тестовый случай 1\n",
        "     M1 = np.array([[0.1, 0.6], [0.4, 0.8]])\n",
        "     threshold1 = 0.5\n",
        "     result1 = binarize(M1, threshold1)\n",
        "     expected1 = np.array([[0, 1], [0, 1]])\n",
        "     assert np.array_equal(result1, expected1), f\"Тестовый случай 1 не пройден: {result1}\"\n",
        "\n",
        "     # Тестовый случай 2\n",
        "     M2 = np.array([[0.5, 0.5], [0.5, 0.5]])\n",
        "     threshold2 = 0.5\n",
        "     result2 = binarize(M2, threshold2)\n",
        "     expected2 = np.array([[0, 0], [0, 0]])  # Порог не включает значения равные threshold\n",
        "     assert np.array_equal(result2, expected2), f\"Тестовый случай 2 не пройден: {result2}\"\n",
        "\n",
        "     # Тестовый случай 3 (различные значения и порог)\n",
        "     M3 = np.array([[0.3, 0.7, 0.2], [0.9, 0.1, 0.5]])\n",
        "     threshold3 = 0.4\n",
        "     result3 = binarize(M3, threshold3)\n",
        "     expected3 = np.array([[0, 1, 0], [1, 0, 1]])\n",
        "     assert np.array_equal(result3, expected3), f\"Тестовый случай 3 не пройден: {result3}\"\n",
        "\n",
        "     # Тестовый случай 4 (все значения ниже порога)\n",
        "     M4 = np.array([[0.1, 0.2], [0.3, 0.4]])\n",
        "     threshold4 = 0.5\n",
        "     result4 = binarize(M4, threshold4)\n",
        "     expected4 = np.array([[0, 0], [0, 0]])\n",
        "     assert np.array_equal(result4, expected4), f\"Тестовый случай 4 не пройден: {result4}\"\n",
        "\n",
        "     print(\"Все тестовые случаи пройдены!\")\n",
        "\n",
        " # Запуск тестов\n",
        "test_binarize()"
      ]
    },
    {
      "cell_type": "markdown",
      "metadata": {
        "id": "IY5L-h-7zWhN"
      },
      "source": [
        "<h1>Задача 3. Напишите функцию, которая возвращает уникальные элементы из каждой строки матрицы. Напишите такую же функцию, но для столбцов. Напишите тесты для кода"
      ]
    },
    {
      "cell_type": "code",
      "execution_count": null,
      "metadata": {
        "id": "-8dEZhR0SBC-"
      },
      "outputs": [],
      "source": [
        "import numpy as np\n",
        "\n",
        "def unique_rows(mat):\n",
        "     # Получаем уникальные элементы для каждой строки\n",
        "     return np.array([np.unique(row) for row in mat])\n",
        "\n",
        "def unique_columns(mat):\n",
        "     # Получаем уникальные элементы для каждого столбца\n",
        "     return np.array([np.unique(col) for col in mat])\n",
        "\n",
        "\n",
        "def test_unique_functions():\n",
        "     # Тестовый случай 1\n",
        "     mat1 = np.array([[1, 2, 2], \n",
        "                      [3, 3, 4], \n",
        "                      [5, 6, 6]])\n",
        "    \n",
        "     math2 = mat1.T\n",
        "    \n",
        "     result_rows1 = unique_rows(mat1)\n",
        "     expected_rows1 = np.array([[1, 2], [3, 4], [5, 6]])\n",
        "     assert np.array_equal(result_rows1, expected_rows1), f\"Тестовый случай 1 (строки) не пройден: {result_rows1}\"\n",
        "    \n",
        "     result_cols1 = unique_columns(math2)\n",
        "     expected_cols1 = np.array([[1, 3, 5], [2, 3, 6], [2, 4, 6]])\n",
        "     assert np.array_equal(result_cols1, expected_cols1), f\"Тестовый случай 1 (столбцы) не пройден: {result_cols1}\"\n",
        "\n",
        "\n",
        "\n",
        "     # Тестовый случай 2\n",
        "     mat2 = np.array([[1, 1, 1], [1, 1, 1], [1, 1, 1]])\n",
        "     mat22 = mat2.T\n",
        "    \n",
        "     result_rows2 = unique_rows(mat2)\n",
        "     expected_rows2 = np.array([[1], [1], [1]])  # Все элементы одинаковые\n",
        "     assert np.array_equal(result_rows2, expected_rows2), f\"Тестовый случай 2 (строки) не пройден: {result_rows2}\"\n",
        "    \n",
        "     result_cols2 = unique_columns(mat22)\n",
        "     expected_cols2 = np.array([[1], [1], [1]])  # Все элементы одинаковые\n",
        "     assert np.array_equal(result_cols2, expected_cols2), f\"Тестовый случай 2 (столбцы) не пройден: {result_cols2}\"\n",
        "\n",
        "\n",
        "     print(\"Все тестовые случаи пройдены!\")\n",
        "\n",
        " # Запуск тестов\n",
        "test_unique_functions()"
      ]
    },
    {
      "cell_type": "markdown",
      "metadata": {
        "id": "roYAlo4Jz-lH"
      },
      "source": [
        "<h1>Задача 4. Напишите функцию, которая заполняет матрицу с размерами $(m, n)$ случайными числами, распределенными по нормальному закону. Затем считает мат. ожидание и дисперсию для каждого из столбцов и строк, а также строит для каждой строки и столбца гистограмму значений (использовать функцию hist из модуля matplotlib.plot)"
      ]
    },
    {
      "cell_type": "code",
      "execution_count": null,
      "metadata": {
        "id": "nZK_71hMSQzv"
      },
      "outputs": [],
      "source": [
        "def generate_matrix_and_stats(m, n, mu=0, sigma=1):\n",
        "     # Создаем матрицу случайных чисел, распределенных по нормальному закону\n",
        "     matrix = np.random.normal(mu, sigma, (m, n))\n",
        "    \n",
        "     # Вычисляем математическое ожидание и дисперсию для строк и столбцов\n",
        "     row_means = np.mean(matrix, axis=1)\n",
        "     row_variances = np.var(matrix, axis=1)\n",
        "    \n",
        "     col_means = np.mean(matrix, axis=0)\n",
        "     col_variances = np.var(matrix, axis=0)\n",
        "    \n",
        "     # Выводим результаты\n",
        "     print(\"Матрица:\")\n",
        "     print(matrix)\n",
        "     print(\"\\nМатематическое ожидание по строкам:\")\n",
        "     print(row_means)\n",
        "     print(\"\\nДисперсия по строкам:\")\n",
        "     print(row_variances)\n",
        "     print(\"\\nМатематическое ожидание по столбцам:\")\n",
        "     print(col_means)\n",
        "     print(\"\\nДисперсия по столбцам:\")\n",
        "     print(col_variances)\n",
        "    \n",
        "     # Построение гистограмм для каждой строки\n",
        "     for i in range(m):\n",
        "         plt.figure()\n",
        "         plt.hist(matrix[i, :], bins=10, alpha=0.7, color='blue')\n",
        "         plt.title(f'Гистограмма значений строки {i+1}')\n",
        "         plt.xlabel('Значения')\n",
        "         plt.ylabel('Частота')\n",
        "         plt.grid(True)\n",
        "         plt.show()\n",
        "    \n",
        "     # Построение гистограмм для каждого столбца\n",
        "     for j in range(n):\n",
        "         plt.figure()\n",
        "         plt.hist(matrix[:, j], bins=10, alpha=0.7, color='green')\n",
        "         plt.title(f'Гистограмма значений столбца {j+1}')\n",
        "         plt.xlabel('Значения')\n",
        "         plt.ylabel('Частота')\n",
        "         plt.grid(True)\n",
        "         plt.show()\n",
        "\n",
        " # Пример использования функции\n",
        "generate_matrix_and_stats(5, 4)"
      ]
    },
    {
      "cell_type": "markdown",
      "metadata": {
        "id": "BDyATNdM0dJ2"
      },
      "source": [
        "<h1>Задача 5. Напишите функцию, которая заполняет матрицу $(m, n)$ в шахматном порядке заданными числами $a$ и $b$. Напишите тесты для кода"
      ]
    },
    {
      "cell_type": "code",
      "execution_count": null,
      "metadata": {
        "id": "RWNJYWQGecS6"
      },
      "outputs": [],
      "source": [
        "def chess(m, n, a, b):\n",
        "    # Your code goes here\n",
        "    pass"
      ]
    },
    {
      "cell_type": "markdown",
      "metadata": {
        "id": "-ymXLtTN0vB6"
      },
      "source": [
        "<h1>Задача 6. Напишите функцию, которая отрисовывает прямоугольник с заданными размерами (a, b) на изображении размера (m, n), цвет фона задайте в схеме RGB, как и цвет прямоугольника. Цвета также должны быть параметрами функции. Напишите аналогичную функцию но для овала с полуосями a и b. Напишите тесты для кода.\n",
        "Примечание: уравнение эллипса (границы овала) можно записать как:\n",
        "<h1>$\\frac{(x-x_0)^2}{a^2}+\\frac{(y-y_0)^2}{b^2}=1$"
      ]
    },
    {
      "cell_type": "code",
      "execution_count": 1,
      "metadata": {
        "id": "sNfl1t_kfOF4"
      },
      "outputs": [],
      "source": [
        "def draw_rectangle(a, b, m, n, rectangle_color, background_color):\n",
        "    # Your code goes here\n",
        "    pass\n",
        "\n",
        "def draw_ellipse(a, b, m, n, ellipse_color, background_color):\n",
        "    # Your code goes here\n",
        "    pass"
      ]
    },
    {
      "cell_type": "markdown",
      "metadata": {
        "id": "S82c38oz244H"
      },
      "source": [
        "<h1>Задача 7. Дан некий временной ряд. Для данного ряда нужно найти его: математическое ожидание, дисперсию, СКО, найти все локальные максимумы и минимумы (локальный максимум - это точка, которая больше своих соседних точек, а локальный минимум - это точка, которая меньше своих соседей), а также вычислить для данного ряда другой ряд, получаемый методом скользящего среднего с размером окна $p$.\n",
        "<h1>Примечание: метод скользящего среднего подразумевает нахождение среднего из подмножетсва ряда размером $p$"
      ]
    },
    {
      "cell_type": "code",
      "execution_count": null,
      "metadata": {
        "id": "Zb9mIVge5MMt"
      },
      "outputs": [],
      "source": [
        "# Your code goes here"
      ]
    },
    {
      "cell_type": "markdown",
      "metadata": {
        "id": "jPkylmOX5O9n"
      },
      "source": [
        "<h1> Задача 8. Дан некоторый вектор с целочисленными метками классов, напишите функцию, которая выполняет one-hot-encoding для данного вектора\n",
        "<h1> One-hot-encoding - представление, в котором на месте метки некоторого класса стоит 1, в остальных позициях стоит 0. Например для вектора [0, 2, 3, 0] one-hot-encoding выглядит как: [[1, 0, 0, 0], [0, 0, 1, 0], [0, 0, 0, 1], [1, 0, 0, 0]]"
      ]
    },
    {
      "cell_type": "code",
      "execution_count": null,
      "metadata": {
        "id": "Y-jlnZvw56lD"
      },
      "outputs": [],
      "source": [
        "# Your code goes here"
      ]
    }
  ],
  "metadata": {
    "colab": {
      "provenance": []
    },
    "kernelspec": {
      "display_name": "Python 3",
      "name": "python3"
    },
    "language_info": {
      "name": "python"
    }
  },
  "nbformat": 4,
  "nbformat_minor": 0
}
